{
 "cells": [
  {
   "cell_type": "markdown",
   "id": "d6848e9f",
   "metadata": {},
   "source": [
    "Leap year determiner Program\n",
    "The conditions for a leap year are: - the number is disible by 4 with no remainder (num%4 == 0) - the number is not disible by 100 (num%100 != 0) - but if num is divible by 100 then it should move on to the next condition which is - the number is divisible by 400 (num%400 == 0)"
   ]
  },
  {
   "cell_type": "code",
   "execution_count": 1,
   "id": "cbd53764",
   "metadata": {},
   "outputs": [
    {
     "name": "stdout",
     "output_type": "stream",
     "text": [
      "Enter the year: 2016\n",
      "this is a leap year\n"
     ]
    }
   ],
   "source": [
    "num = int(input(\"Enter the year: \"))\n",
    "if num%4 == 0:\n",
    "    if num%100 == 0:\n",
    "        if num%400 == 0:\n",
    "            print(\"this is a leap year\")\n",
    "        else:\n",
    "              print(\"this is not a leap year\")\n",
    "    else:\n",
    "        print(\"this is a leap year\")      \n",
    "else:\n",
    "    print(\"this is not a leap year\")"
   ]
  }
 ],
 "metadata": {
  "kernelspec": {
   "display_name": "Python 3 (ipykernel)",
   "language": "python",
   "name": "python3"
  },
  "language_info": {
   "codemirror_mode": {
    "name": "ipython",
    "version": 3
   },
   "file_extension": ".py",
   "mimetype": "text/x-python",
   "name": "python",
   "nbconvert_exporter": "python",
   "pygments_lexer": "ipython3",
   "version": "3.9.7"
  }
 },
 "nbformat": 4,
 "nbformat_minor": 5
}
